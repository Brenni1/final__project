{
 "cells": [
  {
   "cell_type": "code",
   "execution_count": 1,
   "metadata": {},
   "outputs": [
    {
     "name": "stderr",
     "output_type": "stream",
     "text": [
      "C:\\Users\\Phillip\\AppData\\Roaming\\Python\\Python39\\site-packages\\numpy\\_distributor_init.py:30: UserWarning: loaded more than 1 DLL from .libs:\n",
      "C:\\Users\\Phillip\\AppData\\Roaming\\Python\\Python39\\site-packages\\numpy\\.libs\\libopenblas.EL2C6PLE4ZYW3ECEVIV3OXXGRN2NRFM2.gfortran-win_amd64.dll\n",
      "C:\\Users\\Phillip\\AppData\\Roaming\\Python\\Python39\\site-packages\\numpy\\.libs\\libopenblas.FB5AE2TYXYH2IJRDKGDGQ3XBKLKTF43H.gfortran-win_amd64.dll\n",
      "  warnings.warn(\"loaded more than 1 DLL from .libs:\"\n",
      "d:\\Users\\Phillip\\anaconda3\\lib\\site-packages\\scipy\\__init__.py:146: UserWarning: A NumPy version >=1.16.5 and <1.23.0 is required for this version of SciPy (detected version 1.23.1\n",
      "  warnings.warn(f\"A NumPy version >={np_minversion} and <{np_maxversion}\"\n"
     ]
    }
   ],
   "source": [
    "import pandas as pd\n",
    "import numpy as np\n",
    "from sklearn.preprocessing import MinMaxScaler\n",
    "from sklearn.preprocessing import OneHotEncoder\n",
    "from sklearn.linear_model import LogisticRegression\n",
    "from sklearn.linear_model import LinearRegression\n",
    "import xgboost as xgb\n",
    "from sklearn.model_selection import train_test_split\n",
    "\n",
    "pd.set_option('display.max_rows', 50)\n",
    "pd.set_option('display.max_columns', 50)"
   ]
  },
  {
   "cell_type": "code",
   "execution_count": 2,
   "metadata": {},
   "outputs": [],
   "source": [
    "merge = pd.read_csv('./tableau.csv')"
   ]
  },
  {
   "cell_type": "code",
   "execution_count": 3,
   "metadata": {},
   "outputs": [
    {
     "data": {
      "text/html": [
       "<div>\n",
       "<style scoped>\n",
       "    .dataframe tbody tr th:only-of-type {\n",
       "        vertical-align: middle;\n",
       "    }\n",
       "\n",
       "    .dataframe tbody tr th {\n",
       "        vertical-align: top;\n",
       "    }\n",
       "\n",
       "    .dataframe thead th {\n",
       "        text-align: right;\n",
       "    }\n",
       "</style>\n",
       "<table border=\"1\" class=\"dataframe\">\n",
       "  <thead>\n",
       "    <tr style=\"text-align: right;\">\n",
       "      <th></th>\n",
       "      <th>Unnamed: 0</th>\n",
       "      <th>user_pseudo_id</th>\n",
       "      <th>target_max_day_played</th>\n",
       "      <th>mission_id</th>\n",
       "      <th>mission_difficulty</th>\n",
       "      <th>mission_stars_collected</th>\n",
       "      <th>day_auto_increment</th>\n",
       "      <th>lifetime_played_runs</th>\n",
       "      <th>max_run_distance</th>\n",
       "      <th>total_purchases_virtual</th>\n",
       "      <th>total_ads_watched</th>\n",
       "      <th>total_purchases_real</th>\n",
       "      <th>geo_country</th>\n",
       "      <th>days_played_in_month</th>\n",
       "      <th>virtual_currency_balance</th>\n",
       "      <th>event_timestamp</th>\n",
       "      <th>mission_played</th>\n",
       "    </tr>\n",
       "  </thead>\n",
       "  <tbody>\n",
       "    <tr>\n",
       "      <th>0</th>\n",
       "      <td>0</td>\n",
       "      <td>794</td>\n",
       "      <td>0</td>\n",
       "      <td>115</td>\n",
       "      <td>1.0</td>\n",
       "      <td>3.0</td>\n",
       "      <td>0.0</td>\n",
       "      <td>1.0</td>\n",
       "      <td>1183.0</td>\n",
       "      <td>0.0</td>\n",
       "      <td>0.0</td>\n",
       "      <td>0.0</td>\n",
       "      <td>India</td>\n",
       "      <td>0.0</td>\n",
       "      <td>5715.0</td>\n",
       "      <td>19-02-2022 18:47:18</td>\n",
       "      <td>1</td>\n",
       "    </tr>\n",
       "    <tr>\n",
       "      <th>1</th>\n",
       "      <td>1</td>\n",
       "      <td>794</td>\n",
       "      <td>0</td>\n",
       "      <td>113</td>\n",
       "      <td>1.0</td>\n",
       "      <td>3.0</td>\n",
       "      <td>0.0</td>\n",
       "      <td>1.0</td>\n",
       "      <td>1183.0</td>\n",
       "      <td>0.0</td>\n",
       "      <td>0.0</td>\n",
       "      <td>0.0</td>\n",
       "      <td>India</td>\n",
       "      <td>0.0</td>\n",
       "      <td>5715.0</td>\n",
       "      <td>19-02-2022 18:47:52</td>\n",
       "      <td>2</td>\n",
       "    </tr>\n",
       "    <tr>\n",
       "      <th>2</th>\n",
       "      <td>2</td>\n",
       "      <td>794</td>\n",
       "      <td>0</td>\n",
       "      <td>109</td>\n",
       "      <td>1.0</td>\n",
       "      <td>3.0</td>\n",
       "      <td>0.0</td>\n",
       "      <td>1.0</td>\n",
       "      <td>1183.0</td>\n",
       "      <td>0.0</td>\n",
       "      <td>0.0</td>\n",
       "      <td>0.0</td>\n",
       "      <td>India</td>\n",
       "      <td>0.0</td>\n",
       "      <td>5715.0</td>\n",
       "      <td>19-02-2022 18:47:57</td>\n",
       "      <td>3</td>\n",
       "    </tr>\n",
       "    <tr>\n",
       "      <th>3</th>\n",
       "      <td>3</td>\n",
       "      <td>794</td>\n",
       "      <td>0</td>\n",
       "      <td>11</td>\n",
       "      <td>1.0</td>\n",
       "      <td>6.0</td>\n",
       "      <td>0.0</td>\n",
       "      <td>3.0</td>\n",
       "      <td>1695.0</td>\n",
       "      <td>0.0</td>\n",
       "      <td>2.0</td>\n",
       "      <td>0.0</td>\n",
       "      <td>India</td>\n",
       "      <td>0.0</td>\n",
       "      <td>6842.0</td>\n",
       "      <td>19-02-2022 18:51:30</td>\n",
       "      <td>4</td>\n",
       "    </tr>\n",
       "    <tr>\n",
       "      <th>4</th>\n",
       "      <td>4</td>\n",
       "      <td>794</td>\n",
       "      <td>0</td>\n",
       "      <td>114</td>\n",
       "      <td>1.0</td>\n",
       "      <td>7.0</td>\n",
       "      <td>0.0</td>\n",
       "      <td>4.0</td>\n",
       "      <td>1695.0</td>\n",
       "      <td>0.0</td>\n",
       "      <td>3.0</td>\n",
       "      <td>0.0</td>\n",
       "      <td>India</td>\n",
       "      <td>0.0</td>\n",
       "      <td>7342.0</td>\n",
       "      <td>19-02-2022 18:53:40</td>\n",
       "      <td>5</td>\n",
       "    </tr>\n",
       "    <tr>\n",
       "      <th>...</th>\n",
       "      <td>...</td>\n",
       "      <td>...</td>\n",
       "      <td>...</td>\n",
       "      <td>...</td>\n",
       "      <td>...</td>\n",
       "      <td>...</td>\n",
       "      <td>...</td>\n",
       "      <td>...</td>\n",
       "      <td>...</td>\n",
       "      <td>...</td>\n",
       "      <td>...</td>\n",
       "      <td>...</td>\n",
       "      <td>...</td>\n",
       "      <td>...</td>\n",
       "      <td>...</td>\n",
       "      <td>...</td>\n",
       "      <td>...</td>\n",
       "    </tr>\n",
       "    <tr>\n",
       "      <th>2560558</th>\n",
       "      <td>2680035</td>\n",
       "      <td>99999617</td>\n",
       "      <td>2</td>\n",
       "      <td>115</td>\n",
       "      <td>1.0</td>\n",
       "      <td>7.0</td>\n",
       "      <td>1.0</td>\n",
       "      <td>3.0</td>\n",
       "      <td>1888.0</td>\n",
       "      <td>1500.0</td>\n",
       "      <td>0.0</td>\n",
       "      <td>0.0</td>\n",
       "      <td>Mexico</td>\n",
       "      <td>1.0</td>\n",
       "      <td>5368.0</td>\n",
       "      <td>12-02-2022 15:02:46</td>\n",
       "      <td>6</td>\n",
       "    </tr>\n",
       "    <tr>\n",
       "      <th>2560559</th>\n",
       "      <td>2680036</td>\n",
       "      <td>99999617</td>\n",
       "      <td>2</td>\n",
       "      <td>6</td>\n",
       "      <td>1.0</td>\n",
       "      <td>7.0</td>\n",
       "      <td>1.0</td>\n",
       "      <td>3.0</td>\n",
       "      <td>1888.0</td>\n",
       "      <td>1500.0</td>\n",
       "      <td>0.0</td>\n",
       "      <td>0.0</td>\n",
       "      <td>Mexico</td>\n",
       "      <td>1.0</td>\n",
       "      <td>5368.0</td>\n",
       "      <td>12-02-2022 15:03:07</td>\n",
       "      <td>7</td>\n",
       "    </tr>\n",
       "    <tr>\n",
       "      <th>2560560</th>\n",
       "      <td>2680037</td>\n",
       "      <td>99999617</td>\n",
       "      <td>2</td>\n",
       "      <td>19</td>\n",
       "      <td>2.0</td>\n",
       "      <td>10.0</td>\n",
       "      <td>1.0</td>\n",
       "      <td>4.0</td>\n",
       "      <td>1888.0</td>\n",
       "      <td>4000.0</td>\n",
       "      <td>0.0</td>\n",
       "      <td>0.0</td>\n",
       "      <td>Mexico</td>\n",
       "      <td>1.0</td>\n",
       "      <td>3616.0</td>\n",
       "      <td>12-02-2022 15:04:28</td>\n",
       "      <td>8</td>\n",
       "    </tr>\n",
       "    <tr>\n",
       "      <th>2560561</th>\n",
       "      <td>2680038</td>\n",
       "      <td>99999617</td>\n",
       "      <td>2</td>\n",
       "      <td>12</td>\n",
       "      <td>2.0</td>\n",
       "      <td>12.0</td>\n",
       "      <td>1.0</td>\n",
       "      <td>5.0</td>\n",
       "      <td>1888.0</td>\n",
       "      <td>4000.0</td>\n",
       "      <td>0.0</td>\n",
       "      <td>0.0</td>\n",
       "      <td>Mexico</td>\n",
       "      <td>1.0</td>\n",
       "      <td>3616.0</td>\n",
       "      <td>12-02-2022 15:05:36</td>\n",
       "      <td>9</td>\n",
       "    </tr>\n",
       "    <tr>\n",
       "      <th>2560562</th>\n",
       "      <td>2680039</td>\n",
       "      <td>99999617</td>\n",
       "      <td>2</td>\n",
       "      <td>86</td>\n",
       "      <td>2.0</td>\n",
       "      <td>14.0</td>\n",
       "      <td>1.0</td>\n",
       "      <td>6.0</td>\n",
       "      <td>1888.0</td>\n",
       "      <td>4000.0</td>\n",
       "      <td>0.0</td>\n",
       "      <td>0.0</td>\n",
       "      <td>Mexico</td>\n",
       "      <td>1.0</td>\n",
       "      <td>4463.0</td>\n",
       "      <td>12-02-2022 15:09:46</td>\n",
       "      <td>10</td>\n",
       "    </tr>\n",
       "  </tbody>\n",
       "</table>\n",
       "<p>2560563 rows × 17 columns</p>\n",
       "</div>"
      ],
      "text/plain": [
       "         Unnamed: 0  user_pseudo_id  target_max_day_played  mission_id  \\\n",
       "0                 0             794                      0         115   \n",
       "1                 1             794                      0         113   \n",
       "2                 2             794                      0         109   \n",
       "3                 3             794                      0          11   \n",
       "4                 4             794                      0         114   \n",
       "...             ...             ...                    ...         ...   \n",
       "2560558     2680035        99999617                      2         115   \n",
       "2560559     2680036        99999617                      2           6   \n",
       "2560560     2680037        99999617                      2          19   \n",
       "2560561     2680038        99999617                      2          12   \n",
       "2560562     2680039        99999617                      2          86   \n",
       "\n",
       "         mission_difficulty  mission_stars_collected  day_auto_increment  \\\n",
       "0                       1.0                      3.0                 0.0   \n",
       "1                       1.0                      3.0                 0.0   \n",
       "2                       1.0                      3.0                 0.0   \n",
       "3                       1.0                      6.0                 0.0   \n",
       "4                       1.0                      7.0                 0.0   \n",
       "...                     ...                      ...                 ...   \n",
       "2560558                 1.0                      7.0                 1.0   \n",
       "2560559                 1.0                      7.0                 1.0   \n",
       "2560560                 2.0                     10.0                 1.0   \n",
       "2560561                 2.0                     12.0                 1.0   \n",
       "2560562                 2.0                     14.0                 1.0   \n",
       "\n",
       "         lifetime_played_runs  max_run_distance  total_purchases_virtual  \\\n",
       "0                         1.0            1183.0                      0.0   \n",
       "1                         1.0            1183.0                      0.0   \n",
       "2                         1.0            1183.0                      0.0   \n",
       "3                         3.0            1695.0                      0.0   \n",
       "4                         4.0            1695.0                      0.0   \n",
       "...                       ...               ...                      ...   \n",
       "2560558                   3.0            1888.0                   1500.0   \n",
       "2560559                   3.0            1888.0                   1500.0   \n",
       "2560560                   4.0            1888.0                   4000.0   \n",
       "2560561                   5.0            1888.0                   4000.0   \n",
       "2560562                   6.0            1888.0                   4000.0   \n",
       "\n",
       "         total_ads_watched  total_purchases_real geo_country  \\\n",
       "0                      0.0                   0.0       India   \n",
       "1                      0.0                   0.0       India   \n",
       "2                      0.0                   0.0       India   \n",
       "3                      2.0                   0.0       India   \n",
       "4                      3.0                   0.0       India   \n",
       "...                    ...                   ...         ...   \n",
       "2560558                0.0                   0.0      Mexico   \n",
       "2560559                0.0                   0.0      Mexico   \n",
       "2560560                0.0                   0.0      Mexico   \n",
       "2560561                0.0                   0.0      Mexico   \n",
       "2560562                0.0                   0.0      Mexico   \n",
       "\n",
       "         days_played_in_month  virtual_currency_balance      event_timestamp  \\\n",
       "0                         0.0                    5715.0  19-02-2022 18:47:18   \n",
       "1                         0.0                    5715.0  19-02-2022 18:47:52   \n",
       "2                         0.0                    5715.0  19-02-2022 18:47:57   \n",
       "3                         0.0                    6842.0  19-02-2022 18:51:30   \n",
       "4                         0.0                    7342.0  19-02-2022 18:53:40   \n",
       "...                       ...                       ...                  ...   \n",
       "2560558                   1.0                    5368.0  12-02-2022 15:02:46   \n",
       "2560559                   1.0                    5368.0  12-02-2022 15:03:07   \n",
       "2560560                   1.0                    3616.0  12-02-2022 15:04:28   \n",
       "2560561                   1.0                    3616.0  12-02-2022 15:05:36   \n",
       "2560562                   1.0                    4463.0  12-02-2022 15:09:46   \n",
       "\n",
       "         mission_played  \n",
       "0                     1  \n",
       "1                     2  \n",
       "2                     3  \n",
       "3                     4  \n",
       "4                     5  \n",
       "...                 ...  \n",
       "2560558               6  \n",
       "2560559               7  \n",
       "2560560               8  \n",
       "2560561               9  \n",
       "2560562              10  \n",
       "\n",
       "[2560563 rows x 17 columns]"
      ]
     },
     "execution_count": 3,
     "metadata": {},
     "output_type": "execute_result"
    }
   ],
   "source": [
    "merge"
   ]
  },
  {
   "cell_type": "code",
   "execution_count": 4,
   "metadata": {},
   "outputs": [],
   "source": [
    "X = merge.drop(['target_max_day_played','Unnamed: 0','geo_country'], axis = 1)\n",
    "y = merge['target_max_day_played'] "
   ]
  },
  {
   "cell_type": "code",
   "execution_count": 5,
   "metadata": {},
   "outputs": [],
   "source": [
    "id = X['user_pseudo_id']"
   ]
  },
  {
   "cell_type": "code",
   "execution_count": 6,
   "metadata": {},
   "outputs": [],
   "source": [
    "X_train, X_test, y_train, y_test = train_test_split(X, y, test_size=0.2, random_state=42)"
   ]
  },
  {
   "cell_type": "code",
   "execution_count": 7,
   "metadata": {},
   "outputs": [],
   "source": [
    "X_train.drop(['user_pseudo_id','event_timestamp'],axis=1,inplace=True)\n",
    "X_test.drop(['user_pseudo_id','event_timestamp'],axis=1,inplace=True)"
   ]
  },
  {
   "cell_type": "code",
   "execution_count": 8,
   "metadata": {},
   "outputs": [],
   "source": [
    "numerical_train = X_train.select_dtypes(np.number)\n",
    "numerical_test = X_test.select_dtypes(np.number)\n",
    "categorical_train= X_train.select_dtypes(object)\n",
    "categorical_test= X_test.select_dtypes(object)\n",
    "\n"
   ]
  },
  {
   "cell_type": "code",
   "execution_count": 9,
   "metadata": {},
   "outputs": [],
   "source": [
    "transformer = MinMaxScaler().fit(numerical_train)\n",
    "numerical_train_standardized = pd.DataFrame(transformer.transform(numerical_train),index=numerical_train.index, columns = numerical_train.columns)\n",
    "numerical_test_standardized = pd.DataFrame(transformer.transform(numerical_test),index=numerical_test.index, columns = numerical_test.columns)"
   ]
  },
  {
   "cell_type": "code",
   "execution_count": 10,
   "metadata": {},
   "outputs": [
    {
     "name": "stderr",
     "output_type": "stream",
     "text": [
      "d:\\Users\\Phillip\\anaconda3\\lib\\site-packages\\sklearn\\utils\\deprecation.py:87: FutureWarning: Function get_feature_names is deprecated; get_feature_names is deprecated in 1.0 and will be removed in 1.2. Please use get_feature_names_out instead.\n",
      "  warnings.warn(msg, category=FutureWarning)\n"
     ]
    }
   ],
   "source": [
    "encoder = OneHotEncoder(drop='first',handle_unknown='error').fit(categorical_train)\n",
    "categorical_train_encoded = encoder.transform(categorical_train).toarray()\n",
    "categorical_test_encoded = encoder.transform(categorical_test).toarray()\n",
    "cols = encoder.get_feature_names(input_features=categorical_train.columns)\n",
    "categorical_train_encoded = pd.DataFrame(categorical_train_encoded, index=categorical_train.index, columns=[i.lower() for i in cols])\n",
    "categorical_test_encoded = pd.DataFrame(categorical_test_encoded, index=categorical_test.index, columns=[i.lower() for i in cols])\n"
   ]
  },
  {
   "cell_type": "code",
   "execution_count": 11,
   "metadata": {},
   "outputs": [],
   "source": [
    "X_train = pd.concat((numerical_train_standardized,categorical_train_encoded),axis=1)\n",
    "X_test = pd.concat((numerical_test_standardized,categorical_test_encoded),axis=1)"
   ]
  },
  {
   "cell_type": "code",
   "execution_count": 12,
   "metadata": {},
   "outputs": [
    {
     "name": "stderr",
     "output_type": "stream",
     "text": [
      "d:\\Users\\Phillip\\anaconda3\\lib\\site-packages\\sklearn\\linear_model\\_logistic.py:814: ConvergenceWarning: lbfgs failed to converge (status=1):\n",
      "STOP: TOTAL NO. of ITERATIONS REACHED LIMIT.\n",
      "\n",
      "Increase the number of iterations (max_iter) or scale the data as shown in:\n",
      "    https://scikit-learn.org/stable/modules/preprocessing.html\n",
      "Please also refer to the documentation for alternative solver options:\n",
      "    https://scikit-learn.org/stable/modules/linear_model.html#logistic-regression\n",
      "  n_iter_i = _check_optimize_result(\n"
     ]
    }
   ],
   "source": [
    "LR = LogisticRegression().fit(X_train,y_train)"
   ]
  },
  {
   "cell_type": "code",
   "execution_count": 13,
   "metadata": {},
   "outputs": [
    {
     "data": {
      "text/plain": [
       "0.16164596485541277"
      ]
     },
     "execution_count": 13,
     "metadata": {},
     "output_type": "execute_result"
    }
   ],
   "source": [
    "score = LR.score(X_test, y_test)\n",
    "score"
   ]
  },
  {
   "cell_type": "code",
   "execution_count": 14,
   "metadata": {},
   "outputs": [],
   "source": [
    "LR = LinearRegression().fit(X_train,y_train)"
   ]
  },
  {
   "cell_type": "code",
   "execution_count": 15,
   "metadata": {},
   "outputs": [
    {
     "data": {
      "text/plain": [
       "0.05691484640348499"
      ]
     },
     "execution_count": 15,
     "metadata": {},
     "output_type": "execute_result"
    }
   ],
   "source": [
    "score = LR.score(X_test, y_test)\n",
    "score"
   ]
  },
  {
   "cell_type": "code",
   "execution_count": 16,
   "metadata": {},
   "outputs": [],
   "source": [
    "from xgboost import XGBRegressor"
   ]
  },
  {
   "cell_type": "code",
   "execution_count": 17,
   "metadata": {},
   "outputs": [],
   "source": [
    "from xgboost import XGBClassifier"
   ]
  },
  {
   "cell_type": "markdown",
   "metadata": {},
   "source": [
    "{'subsample': 0.5,\n",
    " 'min_child_weight': 0.5,\n",
    " 'max_depth': 10,\n",
    " 'eval_metric': 'rmse',\n",
    " 'eta': 0.2,\n",
    " 'colsample_bytree': 1}"
   ]
  },
  {
   "cell_type": "code",
   "execution_count": 18,
   "metadata": {},
   "outputs": [],
   "source": [
    "model = XGBRegressor(\n",
    "    max_depth=10,\n",
    "    n_estimators=100,\n",
    "    min_child_weight=0.5, \n",
    "    colsample_bytree=1, \n",
    "    subsample=0.5, \n",
    "    eta=0.2,\n",
    "    seed=42)"
   ]
  },
  {
   "cell_type": "code",
   "execution_count": 19,
   "metadata": {},
   "outputs": [],
   "source": [
    "# from sklearn.preprocessing import LabelEncoder\n",
    "# le = LabelEncoder()\n",
    "# y_train = le.fit_transform(y_train)   # https://stackoverflow.com/questions/71996617/invalid-classes-inferred-from-unique-values-of-y-expected-0-1-2-3-4-5-got"
   ]
  },
  {
   "cell_type": "code",
   "execution_count": 20,
   "metadata": {},
   "outputs": [
    {
     "name": "stderr",
     "output_type": "stream",
     "text": [
      "d:\\Users\\Phillip\\anaconda3\\lib\\site-packages\\xgboost\\sklearn.py:793: UserWarning: `eval_metric` in `fit` method is deprecated for better compatibility with scikit-learn, use `eval_metric` in constructor or`set_params` instead.\n",
      "  warnings.warn(\n",
      "d:\\Users\\Phillip\\anaconda3\\lib\\site-packages\\xgboost\\sklearn.py:793: UserWarning: `early_stopping_rounds` in `fit` method is deprecated for better compatibility with scikit-learn, use `early_stopping_rounds` in constructor or`set_params` instead.\n",
      "  warnings.warn(\n"
     ]
    },
    {
     "name": "stdout",
     "output_type": "stream",
     "text": [
      "[0]\tvalidation_0-rmse:6.12651\tvalidation_1-rmse:6.13397\n",
      "[1]\tvalidation_0-rmse:5.64944\tvalidation_1-rmse:5.65738\n",
      "[2]\tvalidation_0-rmse:5.32043\tvalidation_1-rmse:5.32921\n",
      "[3]\tvalidation_0-rmse:5.09804\tvalidation_1-rmse:5.10781\n",
      "[4]\tvalidation_0-rmse:4.94975\tvalidation_1-rmse:4.96074\n",
      "[5]\tvalidation_0-rmse:4.85128\tvalidation_1-rmse:4.86364\n",
      "[6]\tvalidation_0-rmse:4.78607\tvalidation_1-rmse:4.79962\n",
      "[7]\tvalidation_0-rmse:4.74306\tvalidation_1-rmse:4.75802\n",
      "[8]\tvalidation_0-rmse:4.71486\tvalidation_1-rmse:4.73096\n",
      "[9]\tvalidation_0-rmse:4.69552\tvalidation_1-rmse:4.71282\n",
      "[10]\tvalidation_0-rmse:4.68265\tvalidation_1-rmse:4.70108\n",
      "[11]\tvalidation_0-rmse:4.67339\tvalidation_1-rmse:4.69324\n",
      "[12]\tvalidation_0-rmse:4.66699\tvalidation_1-rmse:4.68804\n",
      "[13]\tvalidation_0-rmse:4.66216\tvalidation_1-rmse:4.68469\n",
      "[14]\tvalidation_0-rmse:4.65869\tvalidation_1-rmse:4.68228\n",
      "[15]\tvalidation_0-rmse:4.65573\tvalidation_1-rmse:4.68030\n",
      "[16]\tvalidation_0-rmse:4.65322\tvalidation_1-rmse:4.67867\n",
      "[17]\tvalidation_0-rmse:4.65132\tvalidation_1-rmse:4.67788\n",
      "[18]\tvalidation_0-rmse:4.64979\tvalidation_1-rmse:4.67724\n",
      "[19]\tvalidation_0-rmse:4.64848\tvalidation_1-rmse:4.67691\n",
      "[20]\tvalidation_0-rmse:4.64772\tvalidation_1-rmse:4.67659\n",
      "[21]\tvalidation_0-rmse:4.64596\tvalidation_1-rmse:4.67583\n",
      "[22]\tvalidation_0-rmse:4.64495\tvalidation_1-rmse:4.67576\n",
      "[23]\tvalidation_0-rmse:4.64424\tvalidation_1-rmse:4.67545\n",
      "[24]\tvalidation_0-rmse:4.64322\tvalidation_1-rmse:4.67516\n",
      "[25]\tvalidation_0-rmse:4.64183\tvalidation_1-rmse:4.67464\n",
      "[26]\tvalidation_0-rmse:4.64058\tvalidation_1-rmse:4.67466\n",
      "[27]\tvalidation_0-rmse:4.63911\tvalidation_1-rmse:4.67408\n",
      "[28]\tvalidation_0-rmse:4.63802\tvalidation_1-rmse:4.67365\n",
      "[29]\tvalidation_0-rmse:4.63699\tvalidation_1-rmse:4.67374\n",
      "[30]\tvalidation_0-rmse:4.63538\tvalidation_1-rmse:4.67326\n",
      "[31]\tvalidation_0-rmse:4.63433\tvalidation_1-rmse:4.67307\n",
      "[32]\tvalidation_0-rmse:4.63334\tvalidation_1-rmse:4.67291\n",
      "[33]\tvalidation_0-rmse:4.63224\tvalidation_1-rmse:4.67262\n",
      "[34]\tvalidation_0-rmse:4.63107\tvalidation_1-rmse:4.67234\n",
      "[35]\tvalidation_0-rmse:4.62991\tvalidation_1-rmse:4.67197\n",
      "[36]\tvalidation_0-rmse:4.62858\tvalidation_1-rmse:4.67166\n",
      "[37]\tvalidation_0-rmse:4.62753\tvalidation_1-rmse:4.67128\n",
      "[38]\tvalidation_0-rmse:4.62703\tvalidation_1-rmse:4.67099\n",
      "[39]\tvalidation_0-rmse:4.62621\tvalidation_1-rmse:4.67087\n",
      "[40]\tvalidation_0-rmse:4.62466\tvalidation_1-rmse:4.67045\n",
      "[41]\tvalidation_0-rmse:4.62339\tvalidation_1-rmse:4.67014\n",
      "[42]\tvalidation_0-rmse:4.62286\tvalidation_1-rmse:4.67023\n",
      "[43]\tvalidation_0-rmse:4.62214\tvalidation_1-rmse:4.67014\n",
      "[44]\tvalidation_0-rmse:4.62171\tvalidation_1-rmse:4.67002\n",
      "[45]\tvalidation_0-rmse:4.62084\tvalidation_1-rmse:4.66997\n",
      "[46]\tvalidation_0-rmse:4.61993\tvalidation_1-rmse:4.66993\n",
      "[47]\tvalidation_0-rmse:4.61827\tvalidation_1-rmse:4.66929\n",
      "[48]\tvalidation_0-rmse:4.61704\tvalidation_1-rmse:4.66880\n",
      "[49]\tvalidation_0-rmse:4.61617\tvalidation_1-rmse:4.66856\n",
      "[50]\tvalidation_0-rmse:4.61518\tvalidation_1-rmse:4.66820\n",
      "[51]\tvalidation_0-rmse:4.61369\tvalidation_1-rmse:4.66795\n",
      "[52]\tvalidation_0-rmse:4.61278\tvalidation_1-rmse:4.66763\n",
      "[53]\tvalidation_0-rmse:4.61159\tvalidation_1-rmse:4.66752\n",
      "[54]\tvalidation_0-rmse:4.61105\tvalidation_1-rmse:4.66744\n",
      "[55]\tvalidation_0-rmse:4.61002\tvalidation_1-rmse:4.66727\n",
      "[56]\tvalidation_0-rmse:4.60879\tvalidation_1-rmse:4.66695\n",
      "[57]\tvalidation_0-rmse:4.60782\tvalidation_1-rmse:4.66676\n",
      "[58]\tvalidation_0-rmse:4.60672\tvalidation_1-rmse:4.66644\n",
      "[59]\tvalidation_0-rmse:4.60597\tvalidation_1-rmse:4.66629\n",
      "[60]\tvalidation_0-rmse:4.60437\tvalidation_1-rmse:4.66576\n",
      "[61]\tvalidation_0-rmse:4.60383\tvalidation_1-rmse:4.66552\n",
      "[62]\tvalidation_0-rmse:4.60289\tvalidation_1-rmse:4.66523\n",
      "[63]\tvalidation_0-rmse:4.60187\tvalidation_1-rmse:4.66515\n",
      "[64]\tvalidation_0-rmse:4.60089\tvalidation_1-rmse:4.66487\n",
      "[65]\tvalidation_0-rmse:4.60018\tvalidation_1-rmse:4.66471\n",
      "[66]\tvalidation_0-rmse:4.59914\tvalidation_1-rmse:4.66440\n",
      "[67]\tvalidation_0-rmse:4.59846\tvalidation_1-rmse:4.66418\n",
      "[68]\tvalidation_0-rmse:4.59789\tvalidation_1-rmse:4.66399\n",
      "[69]\tvalidation_0-rmse:4.59646\tvalidation_1-rmse:4.66398\n",
      "[70]\tvalidation_0-rmse:4.59567\tvalidation_1-rmse:4.66389\n",
      "[71]\tvalidation_0-rmse:4.59464\tvalidation_1-rmse:4.66354\n",
      "[72]\tvalidation_0-rmse:4.59341\tvalidation_1-rmse:4.66329\n",
      "[73]\tvalidation_0-rmse:4.59277\tvalidation_1-rmse:4.66314\n",
      "[74]\tvalidation_0-rmse:4.59189\tvalidation_1-rmse:4.66295\n",
      "[75]\tvalidation_0-rmse:4.59053\tvalidation_1-rmse:4.66242\n",
      "[76]\tvalidation_0-rmse:4.58989\tvalidation_1-rmse:4.66220\n",
      "[77]\tvalidation_0-rmse:4.58866\tvalidation_1-rmse:4.66203\n",
      "[78]\tvalidation_0-rmse:4.58691\tvalidation_1-rmse:4.66154\n",
      "[79]\tvalidation_0-rmse:4.58622\tvalidation_1-rmse:4.66128\n",
      "[80]\tvalidation_0-rmse:4.58476\tvalidation_1-rmse:4.66070\n",
      "[81]\tvalidation_0-rmse:4.58387\tvalidation_1-rmse:4.66062\n",
      "[82]\tvalidation_0-rmse:4.58304\tvalidation_1-rmse:4.66040\n",
      "[83]\tvalidation_0-rmse:4.58249\tvalidation_1-rmse:4.66035\n",
      "[84]\tvalidation_0-rmse:4.58156\tvalidation_1-rmse:4.66027\n",
      "[85]\tvalidation_0-rmse:4.58038\tvalidation_1-rmse:4.65994\n",
      "[86]\tvalidation_0-rmse:4.57986\tvalidation_1-rmse:4.65965\n",
      "[87]\tvalidation_0-rmse:4.57917\tvalidation_1-rmse:4.65928\n",
      "[88]\tvalidation_0-rmse:4.57836\tvalidation_1-rmse:4.65916\n",
      "[89]\tvalidation_0-rmse:4.57699\tvalidation_1-rmse:4.65871\n",
      "[90]\tvalidation_0-rmse:4.57622\tvalidation_1-rmse:4.65854\n",
      "[91]\tvalidation_0-rmse:4.57513\tvalidation_1-rmse:4.65825\n",
      "[92]\tvalidation_0-rmse:4.57378\tvalidation_1-rmse:4.65779\n",
      "[93]\tvalidation_0-rmse:4.57239\tvalidation_1-rmse:4.65731\n",
      "[94]\tvalidation_0-rmse:4.57134\tvalidation_1-rmse:4.65693\n",
      "[95]\tvalidation_0-rmse:4.57080\tvalidation_1-rmse:4.65673\n",
      "[96]\tvalidation_0-rmse:4.57035\tvalidation_1-rmse:4.65666\n",
      "[97]\tvalidation_0-rmse:4.56956\tvalidation_1-rmse:4.65666\n",
      "[98]\tvalidation_0-rmse:4.56811\tvalidation_1-rmse:4.65625\n",
      "[99]\tvalidation_0-rmse:4.56667\tvalidation_1-rmse:4.65591\n"
     ]
    },
    {
     "data": {
      "text/plain": [
       "XGBRegressor(base_score=0.5, booster='gbtree', callbacks=None,\n",
       "             colsample_bylevel=1, colsample_bynode=1, colsample_bytree=1,\n",
       "             early_stopping_rounds=None, enable_categorical=False, eta=0.2,\n",
       "             eval_metric=None, gamma=0, gpu_id=-1, grow_policy='depthwise',\n",
       "             importance_type=None, interaction_constraints='',\n",
       "             learning_rate=0.200000003, max_bin=256, max_cat_to_onehot=4,\n",
       "             max_delta_step=0, max_depth=10, max_leaves=0, min_child_weight=0.5,\n",
       "             missing=nan, monotone_constraints='()', n_estimators=100, n_jobs=0,\n",
       "             num_parallel_tree=1, predictor='auto', random_state=42,\n",
       "             reg_alpha=0, ...)"
      ]
     },
     "execution_count": 20,
     "metadata": {},
     "output_type": "execute_result"
    }
   ],
   "source": [
    "model.fit(\n",
    "    X_train, \n",
    "    y_train, \n",
    "    eval_metric=\"rmse\", \n",
    "    eval_set=[(X_train, y_train), (X_test, y_test)], \n",
    "    verbose=True, \n",
    "    early_stopping_rounds = 40)"
   ]
  },
  {
   "cell_type": "code",
   "execution_count": 21,
   "metadata": {},
   "outputs": [],
   "source": [
    "y_pred = model.predict(X_test)\n",
    "predictions = [round(value) for value in y_pred]"
   ]
  },
  {
   "cell_type": "code",
   "execution_count": 22,
   "metadata": {},
   "outputs": [],
   "source": [
    "from sklearn.metrics import accuracy_score"
   ]
  },
  {
   "cell_type": "code",
   "execution_count": 23,
   "metadata": {},
   "outputs": [
    {
     "name": "stdout",
     "output_type": "stream",
     "text": [
      "Accuracy: 7.74%\n"
     ]
    }
   ],
   "source": [
    "accuracy = accuracy_score(y_test, predictions)\n",
    "print(\"Accuracy: %.2f%%\" % (accuracy * 100.0))"
   ]
  },
  {
   "cell_type": "code",
   "execution_count": 24,
   "metadata": {},
   "outputs": [],
   "source": [
    "import matplotlib as plt"
   ]
  },
  {
   "cell_type": "code",
   "execution_count": 25,
   "metadata": {},
   "outputs": [
    {
     "data": {
      "text/plain": [
       "<AxesSubplot:title={'center':'Feature importance'}, xlabel='F score', ylabel='Features'>"
      ]
     },
     "execution_count": 25,
     "metadata": {},
     "output_type": "execute_result"
    },
    {
     "data": {
      "image/png": "[encoded data removed]",
      "text/plain": [
       "<Figure size 432x288 with 1 Axes>"
      ]
     },
     "metadata": {
      "needs_background": "light"
     },
     "output_type": "display_data"
    }
   ],
   "source": [
    "xgb.plot_importance(model)"
   ]
  },
  {
   "cell_type": "code",
   "execution_count": 26,
   "metadata": {},
   "outputs": [],
   "source": [
    "from sklearn.model_selection import RandomizedSearchCV\n",
    "\n",
    "\n",
    "max_depth_choices= [3,6,10,None]\n",
    "eval_metric = ['rmse']\n",
    "min_child_weight = [0.3,0.5,1]\n",
    "colsample_bytree = [0.5,0.8,1]\n",
    "subsample = [0.5,0.8,1]\n",
    "eta= [0.1,0.2]\n",
    "\n",
    "\n",
    "random_grid = {'max_depth': max_depth_choices,\n",
    "                'eval_metric': eval_metric,\n",
    "               'min_child_weight': min_child_weight,\n",
    "               'colsample_bytree': colsample_bytree,\n",
    "               'subsample': subsample,\n",
    "                'eta': eta }"
   ]
  },
  {
   "cell_type": "code",
   "execution_count": 27,
   "metadata": {},
   "outputs": [],
   "source": [
    "model = XGBRegressor(\n",
    "    n_estimators=10,\n",
    "    seed=42)"
   ]
  },
  {
   "cell_type": "code",
   "execution_count": 28,
   "metadata": {},
   "outputs": [],
   "source": [
    "random_search = RandomizedSearchCV(estimator = model, param_distributions = random_grid, n_iter=25, cv = 2, n_jobs = 10)"
   ]
  },
  {
   "cell_type": "code",
   "execution_count": 29,
   "metadata": {},
   "outputs": [
    {
     "data": {
      "text/plain": [
       "RandomizedSearchCV(cv=2,\n",
       "                   estimator=XGBRegressor(base_score=None, booster=None,\n",
       "                                          callbacks=None,\n",
       "                                          colsample_bylevel=None,\n",
       "                                          colsample_bynode=None,\n",
       "                                          colsample_bytree=None,\n",
       "                                          early_stopping_rounds=None,\n",
       "                                          enable_categorical=False,\n",
       "                                          eval_metric=None, gamma=None,\n",
       "                                          gpu_id=None, grow_policy=None,\n",
       "                                          importance_type=None,\n",
       "                                          interaction_constraints=None,\n",
       "                                          learning_rate=None, max_bin=None,\n",
       "                                          m...\n",
       "                                          min_child_weight=None, missing=nan,\n",
       "                                          monotone_constraints=None,\n",
       "                                          n_estimators=10, n_jobs=None,\n",
       "                                          num_parallel_tree=None,\n",
       "                                          predictor=None, random_state=None,\n",
       "                                          reg_alpha=None, reg_lambda=None, ...),\n",
       "                   n_iter=25, n_jobs=10,\n",
       "                   param_distributions={'colsample_bytree': [0.5, 0.8, 1],\n",
       "                                        'eta': [0.1, 0.2],\n",
       "                                        'eval_metric': ['rmse'],\n",
       "                                        'max_depth': [3, 6, 10, None],\n",
       "                                        'min_child_weight': [0.3, 0.5, 1],\n",
       "                                        'subsample': [0.5, 0.8, 1]})"
      ]
     },
     "execution_count": 29,
     "metadata": {},
     "output_type": "execute_result"
    }
   ],
   "source": [
    "random_search.fit(X_train,y_train,verbose=1)"
   ]
  },
  {
   "cell_type": "code",
   "execution_count": 30,
   "metadata": {},
   "outputs": [
    {
     "data": {
      "text/plain": [
       "{'subsample': 1,\n",
       " 'min_child_weight': 0.5,\n",
       " 'max_depth': 10,\n",
       " 'eval_metric': 'rmse',\n",
       " 'eta': 0.2,\n",
       " 'colsample_bytree': 1}"
      ]
     },
     "execution_count": 30,
     "metadata": {},
     "output_type": "execute_result"
    }
   ],
   "source": [
    "random_search.best_params_"
   ]
  },
  {
   "cell_type": "code",
   "execution_count": 31,
   "metadata": {},
   "outputs": [
    {
     "data": {
      "text/plain": [
       "Unnamed: 0                    int64\n",
       "user_pseudo_id                int64\n",
       "target_max_day_played         int64\n",
       "mission_id                    int64\n",
       "mission_difficulty          float64\n",
       "mission_stars_collected     float64\n",
       "day_auto_increment          float64\n",
       "lifetime_played_runs        float64\n",
       "max_run_distance            float64\n",
       "total_purchases_virtual     float64\n",
       "total_ads_watched           float64\n",
       "total_purchases_real        float64\n",
       "geo_country                  object\n",
       "days_played_in_month        float64\n",
       "virtual_currency_balance    float64\n",
       "event_timestamp              object\n",
       "mission_played                int64\n",
       "dtype: object"
      ]
     },
     "execution_count": 31,
     "metadata": {},
     "output_type": "execute_result"
    }
   ],
   "source": [
    "merge.dtypes"
   ]
  }
 ],
 "metadata": {
  "interpreter": {
   "hash": "f5ee2f035ebf70006fad247aa2cea4219f84f3ca74d272b5b1d87b4e32521690"
  },
  "kernelspec": {
   "display_name": "Python 3.9.7 ('base')",
   "language": "python",
   "name": "python3"
  },
  "language_info": {
   "codemirror_mode": {
    "name": "ipython",
    "version": 3
   },
   "file_extension": ".py",
   "mimetype": "text/x-python",
   "name": "python",
   "nbconvert_exporter": "python",
   "pygments_lexer": "ipython3",
   "version": "3.9.7"
  },
  "orig_nbformat": 4
 },
 "nbformat": 4,
 "nbformat_minor": 2
}
